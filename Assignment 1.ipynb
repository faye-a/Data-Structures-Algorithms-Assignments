{
 "cells": [
  {
   "cell_type": "markdown",
   "id": "native-duplicate",
   "metadata": {},
   "source": [
    "# Assignment 1 - Recursion Algorithms"
   ]
  },
  {
   "cell_type": "code",
   "execution_count": 1,
   "id": "everyday-stomach",
   "metadata": {},
   "outputs": [],
   "source": [
    "import random\n",
    "from time import perf_counter_ns as pns\n",
    "from average_runtime import calculate_average\n",
    "import matplotlib.pyplot as plt\n",
    "from scipy.optimize import curve_fit\n",
    "from matplotlib import pyplot\n",
    "import numpy as np\n",
    "from numpy import arange\n",
    "from numpy import log"
   ]
  },
  {
   "cell_type": "markdown",
   "id": "alternative-rating",
   "metadata": {},
   "source": [
    "## Question 1 - Recursion"
   ]
  },
  {
   "cell_type": "markdown",
   "id": "miniature-shoot",
   "metadata": {},
   "source": [
    "### Psuedocode for Recursion\n",
    "\n",
    "Recursive (non-tail) Pseudocode:\n",
    "* Define a function for factorial that takes an interger number\n",
    "    * if number is equal to 1 then\n",
    "        * return 1\n",
    "    * else\n",
    "        * return multiply number by calling the function(number - 1)\n",
    "\n",
    "Recursive (tail) Pseudocode:\n",
    "* Define a function for factorial that takes a number and an accumulator\n",
    "    * if number is equal to 1 then\n",
    "        * return accumulator\n",
    "    * else\n",
    "        * return by calling function(number - 1, number * accumulator)\n",
    "\n",
    "Iteration Pseudocode:\n",
    "* Define a function for factorial that takes an interger number\n",
    "* let factorial equal to 1\n",
    "* enter a for loop while integer _i_ is less than or equal to number\n",
    "    * apply product assignment: let factorial = factorial *  _i_ \n",
    "* return factorial"
   ]
  },
  {
   "cell_type": "markdown",
   "id": "clinical-sight",
   "metadata": {},
   "source": [
    "### Algorithm for Recursion\n",
    "<br>"
   ]
  },
  {
   "cell_type": "markdown",
   "id": "simple-wayne",
   "metadata": {},
   "source": [
    "<img style=\"float: left;\" src=\"rec_non_tail.jpg\">"
   ]
  },
  {
   "cell_type": "markdown",
   "id": "continuing-camel",
   "metadata": {},
   "source": [
    "<img style=\"float: left;\" src=\"rec_tail.JPG\">"
   ]
  },
  {
   "cell_type": "markdown",
   "id": "ready-degree",
   "metadata": {},
   "source": [
    "<img style=\"float: left;\" src=\"rec_iter.JPG\">"
   ]
  },
  {
   "cell_type": "markdown",
   "id": "streaming-freeze",
   "metadata": {},
   "source": [
    "### Python Code for Recursion"
   ]
  },
  {
   "cell_type": "markdown",
   "id": "congressional-greenhouse",
   "metadata": {},
   "source": [
    "Function: Non-Tail Recursion "
   ]
  },
  {
   "cell_type": "code",
   "execution_count": 2,
   "id": "noble-blair",
   "metadata": {},
   "outputs": [],
   "source": [
    "def fact_nonT(number):\n",
    "    if number == 1:\n",
    "        return 1\n",
    "    else:\n",
    "        return number * fact_nonT(number - 1)\n",
    "\n",
    "# to_fact = int(input(\"Enter a number to calculate the factorial: \"))\n",
    "# print(\"The factorial number of \", to_fact, \"using non_tail recursion is: \", fact_nonT(to_fact))"
   ]
  },
  {
   "cell_type": "markdown",
   "id": "interpreted-pitch",
   "metadata": {},
   "source": [
    "Function: Tail Recursion"
   ]
  },
  {
   "cell_type": "code",
   "execution_count": 3,
   "id": "functional-surgery",
   "metadata": {},
   "outputs": [],
   "source": [
    "def fact_tail(number, accumulator):\n",
    "    if number == 1:\n",
    "        return accumulator\n",
    "    else:\n",
    "        return fact_tail(number - 1, number * accumulator)\n",
    "    \n",
    "# fact_1 = int(input(\"Two integers are needed to calculate the factorial: \"))\n",
    "# fact_2 = int(input(\"Enter the second integer: \"))\n",
    "# print(\"The numbers\", fact_1, \",\", fact_2, \"has a factorial of:\", fact_tail(fact_1, fact_2))"
   ]
  },
  {
   "cell_type": "markdown",
   "id": "amazing-concrete",
   "metadata": {},
   "source": [
    "Function: Iterative "
   ]
  },
  {
   "cell_type": "code",
   "execution_count": 4,
   "id": "cathedral-amount",
   "metadata": {},
   "outputs": [],
   "source": [
    "def fact_iter(number):\n",
    "    factorial = 1\n",
    "    #for loop \n",
    "    for num in range(2, number + 1):\n",
    "        #factorial = factorial * num\n",
    "        factorial *= num\n",
    "    return factorial\n",
    "\n",
    "# fact_3 = int(input(\"Enter a number to calculate the factorial: \"))\n",
    "# print(\"The number\", fact_3, \"has a factorial of: \", fact_iter(fact_3))"
   ]
  },
  {
   "cell_type": "markdown",
   "id": "noted-clear",
   "metadata": {},
   "source": [
    "### Findings:"
   ]
  },
  {
   "cell_type": "markdown",
   "id": "sunrise-establishment",
   "metadata": {},
   "source": [
    "**Running the functions:**\n",
    "<br>\n",
    "From the algorithm and code implemented, we see that the function called itself. For small values, the function will work. When using bigger values such as 3,000 however, an error occurred. The cell threw a maximum recursion depth exceeded error. In order to see the maximum number to calculate the recursion, sys.getrecursionlimit() was used. The maximum number was 3,000. In this assignment the maximum number used was 2,500. This was also the case for running the tail recursion function to find n!\n",
    "<br><br>\n",
    "For tail recursion, there is no stack frame as it calls itself at the end therefore no computation is done after the return of recursive call. \n",
    "<br><br>\n",
    "Running the iterative factorial function uses a for loop and repeats the instructions within the for loop until a certain condition is met. In this case, it stopped when the loop reached the range specified. The difference is that the function does not call itself therefore it does not have a stack frame, instead it multiplies _factorial_ with the current number in the loop."
   ]
  },
  {
   "cell_type": "markdown",
   "id": "dominican-focus",
   "metadata": {},
   "source": [
    "# Question 2 - Running Time for each Function"
   ]
  },
  {
   "cell_type": "markdown",
   "id": "informed-connecticut",
   "metadata": {},
   "source": [
    "This section will run each type of recursion functions defined above. \n",
    "<br><br>\n",
    "**Methodolody for this section (in order):**\n",
    "<br>\n",
    "* Make an array that will be used to run the factorial functions.\n",
    "* Loop through each element of the array_1, call a function that will return an array of runtimes, calculate the average of this array and store it in a new list.\n",
    "* Define a function that will take a value of array_1, initiate a loop that repeats 1000 times. In this loop: call a factorial function, calculate the runtime, store this runtime in a runtime list. Once the loop exits, the function returns this list. \n",
    "* A visualization of each factorial function runtime will be graphed. "
   ]
  },
  {
   "cell_type": "code",
   "execution_count": 5,
   "id": "industrial-airline",
   "metadata": {},
   "outputs": [],
   "source": [
    "list_values = [10, 100, 500, 1000, 1500, 2000, 2500]"
   ]
  },
  {
   "cell_type": "markdown",
   "id": "endless-liberal",
   "metadata": {},
   "source": [
    "Function: Non-Tail Recursion "
   ]
  },
  {
   "cell_type": "code",
   "execution_count": 17,
   "id": "latin-fishing",
   "metadata": {},
   "outputs": [],
   "source": [
    "def runtime_nontail(number):\n",
    "    array_runtime = []\n",
    "    for i in range(1000):\n",
    "        start = pns()\n",
    "        fact_nonT(number)\n",
    "        end = pns()\n",
    "        runtime = end - start\n",
    "        array_runtime += [runtime]\n",
    "    return array_runtime"
   ]
  },
  {
   "cell_type": "code",
   "execution_count": 18,
   "id": "pursuant-ethernet",
   "metadata": {},
   "outputs": [
    {
     "name": "stdout",
     "output_type": "stream",
     "text": [
      "[1366.0, 17177.0, 128441.5, 405223.8, 723223.8, 1222227.4, 1860660.5]\n"
     ]
    }
   ],
   "source": [
    "#for loop to call runtime_nontail function.\n",
    "average_values_nontail = []\n",
    "for number in list_values:\n",
    "    to_call = runtime_nontail(number)\n",
    "    av = calculate_average(to_call)\n",
    "    average_values_nontail += [av]\n",
    "\n",
    "print(average_values_nontail)"
   ]
  },
  {
   "cell_type": "markdown",
   "id": "identical-register",
   "metadata": {},
   "source": [
    "Function: Tail Recursion"
   ]
  },
  {
   "cell_type": "code",
   "execution_count": 19,
   "id": "interested-blond",
   "metadata": {},
   "outputs": [],
   "source": [
    "def runtime_tail(number):\n",
    "    array_runtime = []\n",
    "    for i in range(1000):\n",
    "        start = pns()\n",
    "        fact_tail(number, 1)\n",
    "        end = pns()\n",
    "        runtime = end - start\n",
    "        array_runtime += [runtime]\n",
    "    return array_runtime"
   ]
  },
  {
   "cell_type": "code",
   "execution_count": 20,
   "id": "located-thursday",
   "metadata": {},
   "outputs": [
    {
     "name": "stdout",
     "output_type": "stream",
     "text": [
      "[1533.2, 20086.3, 152459.8, 519615.9, 1143656.1, 2039908.2, 3306071.0]\n"
     ]
    }
   ],
   "source": [
    "#for loop to call runtime_tail function.\n",
    "average_values_tail = []\n",
    "for number in list_values:\n",
    "    to_call = runtime_tail(number)\n",
    "    av = calculate_average(to_call)\n",
    "    average_values_tail += [av]\n",
    "\n",
    "print(average_values_tail)"
   ]
  },
  {
   "cell_type": "markdown",
   "id": "greater-guitar",
   "metadata": {},
   "source": [
    "Function: Iterative"
   ]
  },
  {
   "cell_type": "code",
   "execution_count": 21,
   "id": "fluid-allen",
   "metadata": {},
   "outputs": [],
   "source": [
    "def runtime_iter(number):\n",
    "    array_runtime = []\n",
    "    for i in range(1000):\n",
    "        start = pns()\n",
    "        fact_iter(number)\n",
    "        end = pns()\n",
    "        runtime = end - start\n",
    "        array_runtime += [runtime]\n",
    "    return array_runtime"
   ]
  },
  {
   "cell_type": "code",
   "execution_count": 22,
   "id": "public-credits",
   "metadata": {},
   "outputs": [
    {
     "name": "stdout",
     "output_type": "stream",
     "text": [
      "[849.0, 8408.8, 70367.8, 254879.8, 525497.8, 852043.6, 1302910.0]\n"
     ]
    }
   ],
   "source": [
    "#for loop to call runtime_iter function.\n",
    "average_values_iter = []\n",
    "for number in list_values:\n",
    "    to_call = runtime_iter(number)\n",
    "    av = calculate_average(to_call)\n",
    "    average_values_iter += [av]\n",
    "\n",
    "print(average_values_iter)"
   ]
  },
  {
   "cell_type": "markdown",
   "id": "headed-novel",
   "metadata": {},
   "source": [
    "### Visualizing the running time of each factorial function"
   ]
  },
  {
   "cell_type": "markdown",
   "id": "arabic-entertainment",
   "metadata": {},
   "source": [
    "Running time for Non-Tail Recursion"
   ]
  },
  {
   "cell_type": "code",
   "execution_count": 23,
   "id": "married-feelings",
   "metadata": {},
   "outputs": [],
   "source": [
    "#setting the x and y axis values\n",
    "values_non = list_values\n",
    "times_elapsed_non = average_values_nontail"
   ]
  },
  {
   "cell_type": "code",
   "execution_count": 31,
   "id": "introductory-insulation",
   "metadata": {},
   "outputs": [
    {
     "data": {
      "image/png": "[encoded data removed]",
      "text/plain": [
       "<Figure size 432x288 with 1 Axes>"
      ]
     },
     "metadata": {
      "needs_background": "light"
     },
     "output_type": "display_data"
    },
    {
     "data": {
      "text/plain": [
       "<Figure size 432x288 with 0 Axes>"
      ]
     },
     "metadata": {},
     "output_type": "display_data"
    }
   ],
   "source": [
    "plt.plot(values_non, times_elapsed_non)\n",
    "plt.xlabel(\"Values\")\n",
    "plt.ylabel(\"Time Elapsed\")\n",
    "plt.title(\"Runtime for Non-Tail Recursion\")\n",
    "plt.show()\n",
    "plt.savefig('nontailrec.png')"
   ]
  },
  {
   "cell_type": "markdown",
   "id": "likely-overview",
   "metadata": {},
   "source": [
    "Running time for Tail-Recursion"
   ]
  },
  {
   "cell_type": "code",
   "execution_count": 32,
   "id": "empirical-barbados",
   "metadata": {},
   "outputs": [],
   "source": [
    "#setting the x and y axis values\n",
    "values_tail = list_values\n",
    "times_elapsed_tail = average_values_tail"
   ]
  },
  {
   "cell_type": "code",
   "execution_count": 33,
   "id": "graphic-intake",
   "metadata": {},
   "outputs": [
    {
     "data": {
      "image/png": "[encoded data removed]",
      "text/plain": [
       "<Figure size 432x288 with 1 Axes>"
      ]
     },
     "metadata": {
      "needs_background": "light"
     },
     "output_type": "display_data"
    },
    {
     "data": {
      "text/plain": [
       "<Figure size 432x288 with 0 Axes>"
      ]
     },
     "metadata": {},
     "output_type": "display_data"
    }
   ],
   "source": [
    "plt.plot(values_tail, times_elapsed_tail)\n",
    "plt.xlabel(\"Values\")\n",
    "plt.ylabel(\"Time Elapsed\")\n",
    "plt.title(\"Runtime for Tail Recursion\")\n",
    "plt.show()\n",
    "plt.savefig('tailrec.png')"
   ]
  },
  {
   "cell_type": "markdown",
   "id": "minus-seven",
   "metadata": {},
   "source": [
    "Running time for Iterative Function"
   ]
  },
  {
   "cell_type": "code",
   "execution_count": 34,
   "id": "bound-traveler",
   "metadata": {},
   "outputs": [],
   "source": [
    "#setting the x and y axis values\n",
    "values_iter = list_values\n",
    "times_elapsed_iter = average_values_iter"
   ]
  },
  {
   "cell_type": "code",
   "execution_count": 35,
   "id": "original-arnold",
   "metadata": {
    "scrolled": true
   },
   "outputs": [
    {
     "data": {
      "image/png": "[encoded data removed]",
      "text/plain": [
       "<Figure size 432x288 with 1 Axes>"
      ]
     },
     "metadata": {
      "needs_background": "light"
     },
     "output_type": "display_data"
    },
    {
     "data": {
      "text/plain": [
       "<Figure size 432x288 with 0 Axes>"
      ]
     },
     "metadata": {},
     "output_type": "display_data"
    }
   ],
   "source": [
    "plt.plot(values_iter, times_elapsed_iter)\n",
    "plt.xlabel(\"Values\")\n",
    "plt.ylabel(\"Time Elapsed\")\n",
    "plt.title(\"Iterative Function\")\n",
    "plt.show()\n",
    "plt.savefig('iterec.png')"
   ]
  },
  {
   "cell_type": "markdown",
   "id": "seven-connecticut",
   "metadata": {},
   "source": [
    "### Findings:"
   ]
  },
  {
   "cell_type": "markdown",
   "id": "elect-christopher",
   "metadata": {},
   "source": [
    "Even though there is no stack frame for the tail recursion, we expected a different runtime complexity. However, as we see from the result, each recursion of the tail function is stored in the second parameter \"accumulator.\" At the end, tail recursion still has to run an _x_ amount of times (following the recursion principle) and so as illustrated with the graph above that the run time complexity is not that much different from a non tail recursion function. \n",
    "\n",
    "In this graph we see that each function has a time complexity of O(n) - linear run time complexity.\n",
    "\n",
    "Though the same, the implementation is different. Recursion is a process that is always applied to it's own function. While iteration is applied to a set of instructions which is executed repeatedly. "
   ]
  },
  {
   "cell_type": "markdown",
   "id": "homeless-garage",
   "metadata": {},
   "source": [
    "# Question 3 - Iterative and Recursion Binary Search"
   ]
  },
  {
   "cell_type": "markdown",
   "id": "numerous-brand",
   "metadata": {},
   "source": [
    "### Pseudocode for Iterative and Recursion Binary Search"
   ]
  },
  {
   "cell_type": "markdown",
   "id": "confident-adams",
   "metadata": {},
   "source": [
    "Iterative Pseudocode:\n",
    "* define binary_iter that takes an array, lowest index, highest index, value to find then\n",
    "    * initiate a while loop where low is less than or equal to high then\n",
    "        * let mid equal to (low + high) divded by 2\n",
    "        * if the index is mid and the index of array is greater than the array element then\n",
    "            * let high equal to mid - 1\n",
    "        * else if the index is mid and index of array is less than the array element then\n",
    "            * let low equal to mid + 1\n",
    "        * else\n",
    "            * let high equal to mid - 1"
   ]
  },
  {
   "cell_type": "markdown",
   "id": "introductory-mattress",
   "metadata": {},
   "source": [
    "Recursive Pseudocode:"
   ]
  },
  {
   "cell_type": "markdown",
   "id": "racial-message",
   "metadata": {},
   "source": [
    "* define binary_recur that takes an array, lowest index, highest index, element to find\n",
    "    * if high is greater than or equal to low index then\n",
    "        * let mid equal to low and add (element - low) and divide by 2\n",
    "        * if the index is equal to mid and the index of array is greater than element then\n",
    "            * return by calling binary_recur(array, mid - 1, highest index, element to find)\n",
    "        * else then\n",
    "            * return by calling binary_recur(array, mid + 1, highest index, element to find)\n",
    "    * else then\n",
    "        * return -1\n",
    "        "
   ]
  },
  {
   "cell_type": "markdown",
   "id": "innocent-theta",
   "metadata": {},
   "source": [
    "### Algorithm for Binary Search"
   ]
  },
  {
   "cell_type": "markdown",
   "id": "proper-missouri",
   "metadata": {},
   "source": [
    "<img style=\"float: left;\" src=\"binary_iter.JPG\">"
   ]
  },
  {
   "cell_type": "markdown",
   "id": "orange-living",
   "metadata": {},
   "source": [
    "<img style=\"float: left;\" src=\"binary_rec.jpg\">"
   ]
  },
  {
   "cell_type": "markdown",
   "id": "electric-flour",
   "metadata": {},
   "source": [
    "### Python Code for Iterative and Recursive Binary Search"
   ]
  },
  {
   "cell_type": "markdown",
   "id": "coordinated-sheriff",
   "metadata": {},
   "source": [
    "Function: Iterative Binary Search"
   ]
  },
  {
   "cell_type": "code",
   "execution_count": 36,
   "id": "figured-guarantee",
   "metadata": {},
   "outputs": [],
   "source": [
    "def binary_iter(array, low, high, element):\n",
    "    while low <= high:\n",
    "        mid = low + (high - low) // 2\n",
    "        \n",
    "        if array[mid] == element:\n",
    "            return mid\n",
    "        \n",
    "        elif array[mid] < element:\n",
    "            low = mid + 1\n",
    "            \n",
    "        else:\n",
    "            high = mid - 1\n",
    "            \n",
    "    return - 1\n",
    "\n",
    "# high = len(average_values_nontail)-1\n",
    "# to_find = 10204.4\n",
    "# iter_index = binary_iter(average_values_nontail, low, high, to_find)\n",
    "# print(iter_index)"
   ]
  },
  {
   "cell_type": "markdown",
   "id": "found-hometown",
   "metadata": {},
   "source": [
    "Function: Recursive Binary Search"
   ]
  },
  {
   "cell_type": "code",
   "execution_count": 37,
   "id": "latin-galaxy",
   "metadata": {},
   "outputs": [],
   "source": [
    "def binary_rec(array, low, high, element):\n",
    "    if high >= low: \n",
    "        mid = low + (high - low) // 2\n",
    "  \n",
    "        if array[mid] == element: \n",
    "            return mid \n",
    "          \n",
    "        elif array[mid] > element: \n",
    "            return binary_rec(array, low, mid-1, element) \n",
    "  \n",
    "        else: \n",
    "            return binary_rec(array, mid + 1, high, element) \n",
    "  \n",
    "    else: \n",
    "        return -1\n",
    "\n",
    "# low = 0\n",
    "# high = 35\n",
    "# to_find = 10204.4\n",
    "# array_nontail = average_values_nontail\n",
    "# iter_index = binary_rec(, low, high, to_find)\n",
    "# print(iter_index)"
   ]
  },
  {
   "cell_type": "markdown",
   "id": "seven-karen",
   "metadata": {},
   "source": [
    "#  Question 4 - Running Time for each Function\n",
    "In this section, I will calculate the best and worse case running time for each binary search problem. \n",
    "<br><br>\n",
    "**Methodology:**\n",
    "<br>\n",
    "* Define a function that calls the binary search functions above and calculates the running time of each value that calls it and returns an array.\n",
    "* Loop through an array of arrays that calls a function and stores these run times into an array.\n",
    "* Plot each run time; for best case and worst case scenarios.\n",
    "* Best case: the element to find is len(array)//2.\n",
    "* Worst case: the element to find is either array[0] or array[len(array)]. In this section I will use the first element of an array."
   ]
  },
  {
   "cell_type": "markdown",
   "id": "educational-details",
   "metadata": {},
   "source": [
    "In the cell below, we take the module random.sample to product random integers and store it in a list within a given range. When conducting binary search the array is always sorted."
   ]
  },
  {
   "cell_type": "code",
   "execution_count": 38,
   "id": "actual-factor",
   "metadata": {},
   "outputs": [],
   "source": [
    "list1 = random.sample(range(10000), 10000)\n",
    "list2 = random.sample(range(20000), 20000)\n",
    "list3 = random.sample(range(40000), 40000)\n",
    "list4 = random.sample(range(80000), 80000)\n",
    "list5 = random.sample(range(160000), 160000)\n",
    "list6 = random.sample(range(320000), 320000)\n",
    "list7 = random.sample(range(640000), 640000)\n",
    "list8 = random.sample(range(1280000), 1280000)\n",
    "list9 = random.sample(range(2640000), 2640000)\n",
    "list10 = random.sample(range(10240000), 10240000)\n",
    "list11 = random.sample(range(20480000), 20480000)\n",
    "\n",
    "list1.sort()\n",
    "list2.sort()\n",
    "list3.sort()\n",
    "list4.sort()\n",
    "list5.sort()\n",
    "list6.sort()\n",
    "list7.sort()\n",
    "list8.sort()\n",
    "list9.sort()\n",
    "list10.sort()\n",
    "list11.sort()"
   ]
  },
  {
   "cell_type": "code",
   "execution_count": 39,
   "id": "appointed-consortium",
   "metadata": {},
   "outputs": [],
   "source": [
    "#Putting the arrays into a single array. We use arrays_tosearch to run it through the binary search functions\n",
    "arrays_tosearch = [list1, list2, list3, list4, list5, list6, list7, list8, list9, list10, list11]"
   ]
  },
  {
   "cell_type": "markdown",
   "id": "functional-bacteria",
   "metadata": {},
   "source": [
    "### Runtime for each function.\n",
    "<br>**Methodology**\n",
    "* initiate empty array [] .\n",
    "* run a loop to run 100 times, to call the iterative binary search function (binary_iter()) and calculate the running time.\n",
    "* store the running time in the array.\n",
    "* function then returns the array.\n",
    "\n",
    "The array returned will be used as the x-value to plot the graph.\n",
    "\n",
    "* initiates empty array. \n",
    "* loops through the array of list arrays then\n",
    "    * calls the runtime_binary_iter function and store return value in a variable.\n",
    "    * calls a module to calculate the average (see average_runtime.py file attached with the zip file) and stored in a valuable.\n",
    "    * add the average to the initialized array"
   ]
  },
  {
   "cell_type": "markdown",
   "id": "aboriginal-carrier",
   "metadata": {},
   "source": [
    "Function: iterative binary search best case"
   ]
  },
  {
   "cell_type": "code",
   "execution_count": 40,
   "id": "atlantic-queensland",
   "metadata": {},
   "outputs": [],
   "source": [
    "#loop through each array, and run the search algorithm with these arrays by calling a function\n",
    "def runtime_binary_iter(array):\n",
    "    array_2 = []\n",
    "    for i in range(100):\n",
    "        start = pns()\n",
    "        binary_iter(array, 0, len(array), len(array)//2)\n",
    "        end = pns()\n",
    "        runtime = end - start\n",
    "        array_2 += [runtime]\n",
    "    return array_2"
   ]
  },
  {
   "cell_type": "markdown",
   "id": "attempted-parcel",
   "metadata": {},
   "source": []
  },
  {
   "cell_type": "code",
   "execution_count": 41,
   "id": "worst-coral",
   "metadata": {},
   "outputs": [
    {
     "name": "stdout",
     "output_type": "stream",
     "text": [
      "[573.0, 521.0, 524.0, 526.0, 531.0, 516.0, 526.0, 522.0, 524.0, 519.0, 529.0]\n"
     ]
    }
   ],
   "source": [
    "runtime_search_array_iter = []\n",
    "for array in arrays_tosearch:\n",
    "    runtime = runtime_binary_iter(array)\n",
    "    av = calculate_average(runtime)\n",
    "    runtime_search_array_iter += [av]\n",
    "\n",
    "print(runtime_search_array_iter)"
   ]
  },
  {
   "cell_type": "markdown",
   "id": "vanilla-publisher",
   "metadata": {},
   "source": [
    "Function: recursive binary search best case"
   ]
  },
  {
   "cell_type": "code",
   "execution_count": 42,
   "id": "competent-highland",
   "metadata": {},
   "outputs": [],
   "source": [
    "#loop through each array, and run the search algorithm with these arrays by calling a function\n",
    "def runtime_binary_rec(array):\n",
    "    array1 = []\n",
    "    for i in range(100):\n",
    "        start = pns()\n",
    "        binary_iter(array, 0, len(array), len(array)//2)\n",
    "        end = pns()\n",
    "        runtime = end - start\n",
    "        array1 += [runtime]\n",
    "    return array1"
   ]
  },
  {
   "cell_type": "code",
   "execution_count": 43,
   "id": "chubby-lottery",
   "metadata": {},
   "outputs": [
    {
     "name": "stdout",
     "output_type": "stream",
     "text": [
      "[546.0, 523.0, 527.0, 526.0, 526.0, 545.0, 523.0, 519.0, 528.0, 517.0, 518.0]\n"
     ]
    }
   ],
   "source": [
    "runtime_search_array_rec = []\n",
    "for array in arrays_tosearch:\n",
    "    runtime = runtime_binary_rec(array)\n",
    "    av = calculate_average(runtime)\n",
    "    runtime_search_array_rec += [av]\n",
    "    \n",
    "print(runtime_search_array_rec)"
   ]
  },
  {
   "cell_type": "markdown",
   "id": "greenhouse-introduction",
   "metadata": {},
   "source": [
    "Function: iterative binary search worst case"
   ]
  },
  {
   "cell_type": "code",
   "execution_count": 44,
   "id": "regular-karaoke",
   "metadata": {},
   "outputs": [],
   "source": [
    "#loop through each array, and run the search algorithm with these arrays by calling a function\n",
    "def iterB_worst(array):\n",
    "    array_runtime = []\n",
    "    for i in range(100):\n",
    "        start = pns()\n",
    "        binary_iter(array, 0, len(array), 0)\n",
    "        end = pns()\n",
    "        runtime = end - start\n",
    "        array_runtime += [runtime]\n",
    "    return array_runtime"
   ]
  },
  {
   "cell_type": "code",
   "execution_count": 45,
   "id": "assisted-presentation",
   "metadata": {},
   "outputs": [
    {
     "name": "stdout",
     "output_type": "stream",
     "text": [
      "[3293.0, 3595.0, 3798.0, 4049.0, 4291.0, 4591.0, 4835.0, 5151.0, 5339.0, 6000.0, 6037.0]\n"
     ]
    }
   ],
   "source": [
    "iterB_worstcase = []\n",
    "for array in arrays_tosearch:\n",
    "    runtime = iterB_worst(array)\n",
    "    av = calculate_average(runtime)\n",
    "    iterB_worstcase += [av]\n",
    "    \n",
    "print(iterB_worstcase)"
   ]
  },
  {
   "cell_type": "markdown",
   "id": "handmade-white",
   "metadata": {},
   "source": [
    "Function: recursive binary search worst case"
   ]
  },
  {
   "cell_type": "code",
   "execution_count": 46,
   "id": "innocent-shopper",
   "metadata": {},
   "outputs": [],
   "source": [
    "#loop through each array, and run the search algorithm with these arrays by calling a function\n",
    "def recB_worst(array):\n",
    "    array_runtime = []\n",
    "    for i in range(100):\n",
    "        start = pns()\n",
    "        binary_rec(array, 0, len(array), 0)\n",
    "        end = pns()\n",
    "        runtime = end - start\n",
    "        array_runtime += [runtime]\n",
    "    return array_runtime"
   ]
  },
  {
   "cell_type": "code",
   "execution_count": 47,
   "id": "extraordinary-latter",
   "metadata": {},
   "outputs": [
    {
     "name": "stdout",
     "output_type": "stream",
     "text": [
      "[3790.0, 3549.0, 3798.0, 4101.0, 4320.0, 4606.0, 4840.0, 5104.0, 5323.0, 5864.0, 6090.0]\n"
     ]
    }
   ],
   "source": [
    "recB_worstcase = []\n",
    "for array in arrays_tosearch:\n",
    "    runtime = iterB_worst(array)\n",
    "    av = calculate_average(runtime)\n",
    "    recB_worstcase += [av]\n",
    "    \n",
    "print(recB_worstcase)"
   ]
  },
  {
   "cell_type": "markdown",
   "id": "expired-forty",
   "metadata": {},
   "source": [
    "### Findings:"
   ]
  },
  {
   "cell_type": "markdown",
   "id": "sharing-sudan",
   "metadata": {},
   "source": [
    "**Running the functions:**\n",
    "<br>\n",
    "There is no loop when running the recursive binary search function and so instead of passing the value to the next iteration it is passed to the calling of the function. Each function called or looped through compresses the lists into half each iteration/call. The lists created were unsorted at first when first made and it needed to be sorted and so .sort() was used. The cell ran for a longer period of time. \n",
    "<br><br>\n",
    "The functions that called the binary search functions (such as recB_worst()) had a loop to calculate the average runtime of 100 binary search function calls. These functions took one parameter which is a value from list arrays and it is called in order. \n",
    "<br><br>\n",
    "A while loop was used in the iterative binary search function and only returns two values: the element and an error message -1. "
   ]
  },
  {
   "cell_type": "markdown",
   "id": "governing-numbers",
   "metadata": {},
   "source": [
    "**Running the functions:**\n",
    "<br>\n",
    "Implementing runtime for each function: there is no loop running the function. Instead of passing the value to the next iteration it is passed to calling the function itself. Each function called or looped through compresses the lists into half each iteration or call. The lists created were unsorted at first when first made and it needed to be sorted and so .sort() was used. The cell ran for a longer period of time. The functions that called the binary search functions (such as recB_worst()) had a loop to calculate the average runtime of 100 binary search function calls. These functions took one parameter which is a value from list arrays and it is called in order.\n",
    "<br><br>\n",
    "_Recursive Binary Search (binary_rec())_: The recursive binary search function ran the intended purpose. The parameters that were passed were used: array, lowest index element of the array, highest index element of the array and the element to search for. Calculating the running time for the best case,  we expected a time complexity of O(1). To do this, the element is the value that sits in the middle of the array (len(array)//2). When this is run 100 times for each list, the average time is calculated, plotted, the expected values to be returned should be runtimes that fall close to each other. This was achieved as the array returned for example: [487.0, 467.0, 471.0, 470.0, 471.0, 471.0, 475.0, 481.0, 472.0, 471.0, 468.0]\n",
    "<br><br>\n",
    "For the worst case, the element to search for was then the first element of the array. This was chosen because the search starts in the middle of the array and in order to meet the worst case scenario the element should be the last time the array is able to divide itself into half. When this is run 100 times for each list, the average time calculated, plotted, the expected values to be returned should be a sharp increase between the range of each value but the last few values should be closer. This is a time complexity of O(log(n)) This was achieved as the array returned for one of the functions ran is: [3588.0, 3839.0, 4125.0, 4351.0, 4652.0, 4926.0, 5205.0, 5502.0, 6103.0, 6349.0, 6565.0]\n",
    "<br><br>\n",
    "_Iterative Binary Search (binary_iter())_: The iterative binary search function ran the intended purpose. The parameters that were passed: array, lowest index of the array, highest index element of the array and the element to search for. Calculating the running time for the best case, we also expected a time complexity of O(1). The element is the value that sits in the middle of the array (len(array)//2). When run 100 times for wach list, we again expect an array of runtimes that have a small constrast between each other. We get the expected results: [504.0, 474.0, 470.0, 466.0, 483.0, 469.0, 607.0, 469.0, 463.0, 466.0, 463.0]\n",
    "<br><br>\n",
    "For the worst case, the element chosen to search for is the first element of the array. This was chosen because the search starts in the middle of the array. When this is run 100 times for each list, the average time calculated, plotted the expected values that should return should have a big increase for the first number of elements of the array and slowly the range between the last number of values should be smaller. This was achieved: [3314.0, 3522.0, 3786.0, 4016.0, 4277.0, 4535.0, 4798.0, 4949.0, 5175.0, 5690.0, 5880.0]"
   ]
  },
  {
   "cell_type": "markdown",
   "id": "prostate-invalid",
   "metadata": {},
   "source": [
    "### Visualizing the running time of each binary search function"
   ]
  },
  {
   "cell_type": "markdown",
   "id": "innovative-salem",
   "metadata": {},
   "source": [
    "Iterative Binary Search Function for Best Case"
   ]
  },
  {
   "cell_type": "code",
   "execution_count": 48,
   "id": "earned-jumping",
   "metadata": {},
   "outputs": [],
   "source": [
    "values_iter_binary = [10000, 20000, 40000, 80000, 160000, 320000, 640000, 1280000, 2640000, 10240000, 20480000]\n",
    "times_elapsed_binary_iter = runtime_search_array_iter"
   ]
  },
  {
   "cell_type": "code",
   "execution_count": 75,
   "id": "respiratory-india",
   "metadata": {},
   "outputs": [
    {
     "data": {
      "image/png": "[encoded data removed]",
      "text/plain": [
       "<Figure size 432x288 with 1 Axes>"
      ]
     },
     "metadata": {
      "needs_background": "light"
     },
     "output_type": "display_data"
    },
    {
     "data": {
      "text/plain": [
       "<Figure size 432x288 with 0 Axes>"
      ]
     },
     "metadata": {},
     "output_type": "display_data"
    }
   ],
   "source": [
    "plt.ylim(400,1500)\n",
    "plt.plot(values_iter_binary, times_elapsed_binary_iter)\n",
    "plt.xlabel(\"Values\")\n",
    "plt.ylabel(\"Times Elapsed in ns\")\n",
    "plt.title(\"Iterative Search Function\")\n",
    "plt.show()\n",
    "plt.savefig('iterbinary.png')"
   ]
  },
  {
   "cell_type": "markdown",
   "id": "invisible-jacket",
   "metadata": {},
   "source": [
    "Recursive Binary Search Function for Best Case\n"
   ]
  },
  {
   "cell_type": "code",
   "execution_count": 50,
   "id": "improved-bristol",
   "metadata": {},
   "outputs": [],
   "source": [
    "values_rec_binary = [10000, 20000, 40000, 80000, 160000, 320000, 640000, 1280000, 2640000, 10240000, 20480000]\n",
    "times_elapsed_binary_rec = runtime_search_array_rec"
   ]
  },
  {
   "cell_type": "code",
   "execution_count": 76,
   "id": "pressing-portsmouth",
   "metadata": {},
   "outputs": [
    {
     "data": {
      "image/png": "[encoded data removed]",
      "text/plain": [
       "<Figure size 432x288 with 1 Axes>"
      ]
     },
     "metadata": {
      "needs_background": "light"
     },
     "output_type": "display_data"
    },
    {
     "data": {
      "text/plain": [
       "<Figure size 432x288 with 0 Axes>"
      ]
     },
     "metadata": {},
     "output_type": "display_data"
    }
   ],
   "source": [
    "plt.ylim(400,1000)\n",
    "plt.plot(values_rec_binary, times_elapsed_binary_rec)\n",
    "plt.xlabel(\"Values\")\n",
    "plt.ylabel(\"Running Time in ns\")\n",
    "plt.title(\"Recursive Search Function\")\n",
    "plt.show()\n",
    "plt.savefig('recbinary.png')"
   ]
  },
  {
   "cell_type": "markdown",
   "id": "advised-kinase",
   "metadata": {},
   "source": [
    "Iterative Binary Search Function for Worst Case"
   ]
  },
  {
   "cell_type": "code",
   "execution_count": 52,
   "id": "signed-overview",
   "metadata": {},
   "outputs": [],
   "source": [
    "values_iter_binary = [10000, 20000, 40000, 80000, 160000, 320000, 640000, 1280000, 2640000, 10240000, 20480000]\n",
    "times_elapsed_worst_iter = iterB_worstcase"
   ]
  },
  {
   "cell_type": "code",
   "execution_count": 77,
   "id": "minimal-poland",
   "metadata": {},
   "outputs": [
    {
     "data": {
      "image/png": "[encoded data removed]",
      "text/plain": [
       "<Figure size 432x288 with 1 Axes>"
      ]
     },
     "metadata": {
      "needs_background": "light"
     },
     "output_type": "display_data"
    },
    {
     "data": {
      "text/plain": [
       "<Figure size 432x288 with 0 Axes>"
      ]
     },
     "metadata": {},
     "output_type": "display_data"
    }
   ],
   "source": [
    "plt.plot(values_iter_binary, times_elapsed_worst_iter)\n",
    "plt.xlabel(\"Values\")\n",
    "plt.ylabel(\"Running Time in ns\")\n",
    "plt.title(\"Iterative Binary Search Function - Worst Case\")\n",
    "plt.show()\n",
    "plt.savefig('iterworstbinary.png')"
   ]
  },
  {
   "cell_type": "markdown",
   "id": "forward-strength",
   "metadata": {},
   "source": [
    "Recursive Binary Search for Worst Case"
   ]
  },
  {
   "cell_type": "code",
   "execution_count": 54,
   "id": "flexible-margin",
   "metadata": {},
   "outputs": [],
   "source": [
    "values_iter_binary = [10000, 20000, 40000, 80000, 160000, 320000, 640000, 1280000, 2640000, 10240000, 20480000]\n",
    "times_elapsed_worst_rec = recB_worstcase"
   ]
  },
  {
   "cell_type": "code",
   "execution_count": 78,
   "id": "treated-gambling",
   "metadata": {},
   "outputs": [
    {
     "data": {
      "image/png": "[encoded data removed]",
      "text/plain": [
       "<Figure size 432x288 with 1 Axes>"
      ]
     },
     "metadata": {
      "needs_background": "light"
     },
     "output_type": "display_data"
    },
    {
     "data": {
      "text/plain": [
       "<Figure size 432x288 with 0 Axes>"
      ]
     },
     "metadata": {},
     "output_type": "display_data"
    }
   ],
   "source": [
    "plt.plot(values_rec_binary, times_elapsed_worst_rec)\n",
    "plt.xlabel(\"Values\")\n",
    "plt.ylabel(\"Running Time in ns\")\n",
    "plt.title(\"Recursive Binary Search Function - Worst Case\")\n",
    "plt.show()\n",
    "plt.savefig('recbinaryworst.png')"
   ]
  },
  {
   "cell_type": "markdown",
   "id": "computational-mobility",
   "metadata": {},
   "source": [
    "### Findings:"
   ]
  },
  {
   "cell_type": "markdown",
   "id": "impressive-farmer",
   "metadata": {},
   "source": [
    "The graph demonstrates the runtimes for the worst cases and best cases for each binary search functions. \n",
    "<br><br>\n",
    "_Best Case_: The graph for binary and iterative binary search functions demonstrates a straight line. However, the recrusive graph has a slight spike. However as the rest of the lists are run, it is mostly constant. This is the expected result as when the function is run, the result is returned on the first call/iteration because the element input is right in the middle. O(1) then demonstrates a straight line on a graph. \n",
    "<br><br>\n",
    "_Worst Case_: The graph for the binary search functions demonstraights a large spike in the initial lists that were ran and eventually we see that the line starts to become constant. This is the expected result, because we calculated that the time complexity for the worst case for both functions to be O(log(n)). "
   ]
  },
  {
   "cell_type": "markdown",
   "id": "imported-preservation",
   "metadata": {},
   "source": [
    "# Question 5 - Curve Fitting Algorithms\n",
    "In this section, I will plot curve fitting algorithms using curve_fit() from scipy.optimize. "
   ]
  },
  {
   "cell_type": "markdown",
   "id": "former-causing",
   "metadata": {},
   "source": [
    "Methodology:\n",
    "A graph will be implmented by using the inputs and outputs from the collected values above for recursion and binary search functions. \n",
    "1. A mapping function will be defined. \n",
    "2. We search for parameters that will result in minimum error and plot it in a graph by using this mapping function.\n",
    "3. Errors will be taken by using the observations from the domain and passing the inputs to our candidate mapping function. \n",
    "4. These will be compared to the calculated output to the observed output."
   ]
  },
  {
   "cell_type": "markdown",
   "id": "vocational-mortality",
   "metadata": {},
   "source": [
    "\n",
    "To determine the mapping function, we must use the observed time complexity. We then use the observed time complexities to determine the equation of the running time to fit to the mapping function.\n",
    "<br><br>\n",
    "For this assignment, the running time for recursion and binary search were implemented. Recursive functions demonstrated a running time of O(n). Binary search demonstrated a O(1) for the best case running time, while it demonstrated a O(log(n)) for the worst case scenario."
   ]
  },
  {
   "cell_type": "markdown",
   "id": "related-healthcare",
   "metadata": {},
   "source": [
    "**a) Recursive (Non-tail and Tail) & Iterative**"
   ]
  },
  {
   "cell_type": "code",
   "execution_count": 56,
   "id": "primary-preliminary",
   "metadata": {},
   "outputs": [],
   "source": [
    "#defining a linear running time form\n",
    "def linear_objective(x, a, b):\n",
    "    return a * x + b"
   ]
  },
  {
   "cell_type": "markdown",
   "id": "overall-farming",
   "metadata": {},
   "source": [
    "Plotting linear regression for non tail recursive function"
   ]
  },
  {
   "cell_type": "code",
   "execution_count": 57,
   "id": "familiar-aside",
   "metadata": {},
   "outputs": [],
   "source": [
    "#curve fit\n",
    "pop_nontail, _ = curve_fit(linear_objective, values_non, times_elapsed_non)\n",
    "# summarize the parameter values\n",
    "a, b = pop_nontail"
   ]
  },
  {
   "cell_type": "code",
   "execution_count": 58,
   "id": "subsequent-decision",
   "metadata": {},
   "outputs": [],
   "source": [
    "# define a sequence of inputs between the smallest and largest known inputs\n",
    "x_line_nontail = arange(min(values_non), max(values_non), 1)\n",
    "\n",
    "# calculate the output for the range\n",
    "y_line_nontail = linear_objective(x_line_nontail, a, b)"
   ]
  },
  {
   "cell_type": "code",
   "execution_count": 79,
   "id": "confident-checkout",
   "metadata": {},
   "outputs": [
    {
     "data": {
      "image/png": "[encoded data removed]",
      "text/plain": [
       "<Figure size 432x288 with 1 Axes>"
      ]
     },
     "metadata": {
      "needs_background": "light"
     },
     "output_type": "display_data"
    },
    {
     "data": {
      "text/plain": [
       "<Figure size 432x288 with 0 Axes>"
      ]
     },
     "metadata": {},
     "output_type": "display_data"
    }
   ],
   "source": [
    "#create a plot again\n",
    "pyplot.plot(values_non, times_elapsed_non)\n",
    "\n",
    "# create a line plot for the mapping function\n",
    "pyplot.plot(x_line_nontail, y_line_nontail, '--', color='red')\n",
    "pyplot.xlabel('Values')\n",
    "pyplot.ylabel('Run Time')\n",
    "pyplot.title('Linear Regression - Non Tail Recursive Factorial')\n",
    "pyplot.show()\n",
    "pyplot.savefig('linearnontail.png')"
   ]
  },
  {
   "cell_type": "markdown",
   "id": "premier-relaxation",
   "metadata": {},
   "source": [
    "Plotting linear regression for tail recursive function"
   ]
  },
  {
   "cell_type": "code",
   "execution_count": 60,
   "id": "given-commissioner",
   "metadata": {},
   "outputs": [],
   "source": [
    "pop_tail, _ = curve_fit(linear_objective, values_tail, times_elapsed_tail)\n",
    "# summarize the parameter values\n",
    "a, b = pop_tail"
   ]
  },
  {
   "cell_type": "code",
   "execution_count": 61,
   "id": "nuclear-tolerance",
   "metadata": {},
   "outputs": [],
   "source": [
    "x_line_tail = arange(min(values_non), max(values_non), 1)\n",
    "\n",
    "# calculate the output for the range\n",
    "y_line_tail = linear_objective(x_line_tail, a, b)"
   ]
  },
  {
   "cell_type": "code",
   "execution_count": 80,
   "id": "average-emergency",
   "metadata": {
    "scrolled": true
   },
   "outputs": [
    {
     "data": {
      "image/png": "[encoded data removed]",
      "text/plain": [
       "<Figure size 432x288 with 1 Axes>"
      ]
     },
     "metadata": {
      "needs_background": "light"
     },
     "output_type": "display_data"
    },
    {
     "data": {
      "text/plain": [
       "<Figure size 432x288 with 0 Axes>"
      ]
     },
     "metadata": {},
     "output_type": "display_data"
    }
   ],
   "source": [
    "#create a plot\n",
    "pyplot.plot(values_tail, times_elapsed_tail)\n",
    "\n",
    "# create a line plot for the mapping function\n",
    "pyplot.plot(x_line_tail, y_line_tail, '--', color='red')\n",
    "pyplot.xlabel('Values')\n",
    "pyplot.ylabel('Run Time')\n",
    "pyplot.title('Linear Regression - Tail Recursive Factorial')\n",
    "pyplot.show()\n",
    "pyplot.savefig('lineartail.png')"
   ]
  },
  {
   "cell_type": "markdown",
   "id": "dynamic-storm",
   "metadata": {},
   "source": [
    "Plotting linear regression for iterative factorial function"
   ]
  },
  {
   "cell_type": "code",
   "execution_count": 63,
   "id": "fossil-aging",
   "metadata": {},
   "outputs": [],
   "source": [
    "pop_iter, _ = curve_fit(linear_objective, values_iter, times_elapsed_iter)\n",
    "# summarize the parameter values\n",
    "a, b = pop_iter"
   ]
  },
  {
   "cell_type": "code",
   "execution_count": 64,
   "id": "honest-nowhere",
   "metadata": {},
   "outputs": [],
   "source": [
    "x_line_iter = arange(min(values_iter), max(values_iter), 1)\n",
    "\n",
    "# calculate the output for the range\n",
    "y_line_iter = linear_objective(x_line_iter, a, b)"
   ]
  },
  {
   "cell_type": "code",
   "execution_count": 81,
   "id": "fatty-audit",
   "metadata": {},
   "outputs": [
    {
     "data": {
      "image/png": "[encoded data removed]",
      "text/plain": [
       "<Figure size 432x288 with 1 Axes>"
      ]
     },
     "metadata": {
      "needs_background": "light"
     },
     "output_type": "display_data"
    },
    {
     "data": {
      "text/plain": [
       "<Figure size 432x288 with 0 Axes>"
      ]
     },
     "metadata": {},
     "output_type": "display_data"
    }
   ],
   "source": [
    "#create a plot\n",
    "pyplot.plot(values_iter, times_elapsed_iter)\n",
    "\n",
    "# create a line plot for the mapping function\n",
    "pyplot.plot(x_line_iter, y_line_iter, '--', color='red')\n",
    "pyplot.xlabel('Values')\n",
    "pyplot.ylabel('Run Time')\n",
    "pyplot.title('Linear Regression - Iterative Factorial')\n",
    "pyplot.show()\n",
    "pyplot.savefig('lineariter.png')"
   ]
  },
  {
   "cell_type": "markdown",
   "id": "dried-break",
   "metadata": {},
   "source": [
    "**b) Binary Search - Worst Case Running Time**\n",
    "- O(log(n)) is logarithmic. The equation that will be used in this equation is:\n",
    "    - a + b * log(x) where x is an array that contains values that are evenly spaced between the minimum and maximum values.\n",
    "    - it will be put into a function _log_objective_."
   ]
  },
  {
   "cell_type": "code",
   "execution_count": 66,
   "id": "referenced-artist",
   "metadata": {},
   "outputs": [],
   "source": [
    "# the objective function is defined by log(x).\n",
    "def log_objective(x, a, b):\n",
    "    return a + b * log(x)"
   ]
  },
  {
   "cell_type": "markdown",
   "id": "august-board",
   "metadata": {},
   "source": [
    "Plotting logarithmic regression for worst case recursive binary search"
   ]
  },
  {
   "cell_type": "code",
   "execution_count": 67,
   "id": "secret-excerpt",
   "metadata": {},
   "outputs": [],
   "source": [
    "#arranging an evenly spaced value array between the maximum and minimum values.\n",
    "x_line_worst_recbin = arange(min(values_iter_binary), max(values_iter_binary), 1)"
   ]
  },
  {
   "cell_type": "code",
   "execution_count": 68,
   "id": "extraordinary-spain",
   "metadata": {},
   "outputs": [],
   "source": [
    "#fit the equation into a curve+_\n",
    "popt_worst_recbin, _ = curve_fit(log_objective, values_iter_binary, times_elapsed_worst_rec)\n",
    "# summarize the parameter values\n",
    "worst_a_recbin, worst_b_recbin = popt_worst_recbin"
   ]
  },
  {
   "cell_type": "code",
   "execution_count": 69,
   "id": "indirect-toolbox",
   "metadata": {},
   "outputs": [],
   "source": [
    "y_line_worst_recbin = log_objective(x_line_worst_recbin, worst_a_recbin, worst_b_recbin)"
   ]
  },
  {
   "cell_type": "code",
   "execution_count": 82,
   "id": "announced-tracker",
   "metadata": {},
   "outputs": [
    {
     "data": {
      "image/png": "[encoded data removed]",
      "text/plain": [
       "<Figure size 432x288 with 1 Axes>"
      ]
     },
     "metadata": {
      "needs_background": "light"
     },
     "output_type": "display_data"
    },
    {
     "data": {
      "text/plain": [
       "<Figure size 432x288 with 0 Axes>"
      ]
     },
     "metadata": {},
     "output_type": "display_data"
    }
   ],
   "source": [
    "pyplot.plot(values_iter_binary, times_elapsed_worst_rec, color='red')\n",
    "pyplot.plot(x_line_worst_recbin, y_line_worst_recbin, '--', color='green')\n",
    "pyplot.legend(['worst case recursion', 'curve fit'])\n",
    "pyplot.xlabel('Values')\n",
    "pyplot.ylabel('Run Time')\n",
    "pyplot.title('Logarithmic Regression - worst case recursive binary search')\n",
    "pyplot.show()\n",
    "pyplot.savefig('logworstrec.png')"
   ]
  },
  {
   "cell_type": "markdown",
   "id": "renewable-disposal",
   "metadata": {},
   "source": [
    "Plotting logarithmic regression for worst case iterative binary search"
   ]
  },
  {
   "cell_type": "code",
   "execution_count": 71,
   "id": "conditional-universal",
   "metadata": {},
   "outputs": [],
   "source": [
    "#arranging an evenly spaced value array between the maximum and minimum values.\n",
    "x_line_worst_iterbin = arange(min(values_iter_binary), max(values_iter_binary), 1)"
   ]
  },
  {
   "cell_type": "code",
   "execution_count": 72,
   "id": "english-journey",
   "metadata": {},
   "outputs": [],
   "source": [
    "#fit the equation into a curve+_\n",
    "popt_worst_iterbin, _ = curve_fit(log_objective, values_iter_binary, times_elapsed_worst_iter)\n",
    "# summarize the parameter values\n",
    "worst_a_iterbin, worst_b_iterbin = popt_worst_iterbin"
   ]
  },
  {
   "cell_type": "code",
   "execution_count": 73,
   "id": "third-frank",
   "metadata": {},
   "outputs": [],
   "source": [
    "y_line_worst_iterbin = log_objective(x_line_worst_iterbin, worst_a_iterbin, worst_b_iterbin)"
   ]
  },
  {
   "cell_type": "code",
   "execution_count": 83,
   "id": "elementary-blocking",
   "metadata": {},
   "outputs": [
    {
     "data": {
      "image/png": "[encoded data removed]",
      "text/plain": [
       "<Figure size 432x288 with 1 Axes>"
      ]
     },
     "metadata": {
      "needs_background": "light"
     },
     "output_type": "display_data"
    },
    {
     "data": {
      "text/plain": [
       "<Figure size 432x288 with 0 Axes>"
      ]
     },
     "metadata": {},
     "output_type": "display_data"
    }
   ],
   "source": [
    "pyplot.plot(values_iter_binary, times_elapsed_worst_iter, color='red')\n",
    "pyplot.plot(x_line_worst_recbin, y_line_worst_iterbin, '--', color='green')\n",
    "pyplot.legend(['worst case iterative', 'curve fit'])\n",
    "pyplot.xlabel('Values')\n",
    "pyplot.ylabel('Run Time')\n",
    "pyplot.title('Logarithmic Regression - worst case iterative binary search')\n",
    "pyplot.show()\n",
    "pyplot.savefig('logworstiter.png')"
   ]
  },
  {
   "cell_type": "markdown",
   "id": "speaking-proof",
   "metadata": {},
   "source": [
    "### Conclusion"
   ]
  },
  {
   "cell_type": "markdown",
   "id": "seasonal-three",
   "metadata": {},
   "source": [
    "To conclude, we see that using curve fitting algorithms gives us a best visualisation of each function (not including the best case binary runtimes).\n",
    "<br><br>\n",
    "The recursive functions did not entirely behave accurately as we see a slight curve in the linear regression. However, the growth still represents a linear one and I would conclude that it is the expected result. This demonstrates a relationship between the number of values to runtime, where as the value increases the higher the program takes to run. \n",
    "<br><br> \n",
    "The binary search functions also demonstrates a logarithmic regression. The code implemented is based off the run time O(log(n)). The actual values compared to the predicted fit is almost accurate. The rate of increase is sharp in the predicted curve, the same as the actual binary search functions and eventually it begins to become constant. We see that there is a realtionship, where the smaller values has a sharp increase in terms of how long the functions run with smaller lists and as the lists get bigger in size, the time it takes to run the binary search functions start to lessen and steadies."
   ]
  },
  {
   "cell_type": "markdown",
   "id": "institutional-disposal",
   "metadata": {},
   "source": [
    "The algorithms illustrated gave a clear depiction of the structure of the code. For each algorithm there was a desired input and output based on the type of process that the question was asking to implement (recursion, linear/binary search). Having a clear structure (writing the algorithm) made the process of implementing it in code much easier. Though, there were difficulties trying to figure out how to run an average of the runtimes of each function and the solution that ended up being made was to create a seperate module (please see attached .py file) that calls it in a for loop for every list/value of an array and returns an average number. "
   ]
  },
  {
   "cell_type": "code",
   "execution_count": null,
   "id": "democratic-guest",
   "metadata": {},
   "outputs": [],
   "source": []
  }
 ],
 "metadata": {
  "kernelspec": {
   "display_name": "Python 3",
   "language": "python",
   "name": "python3"
  },
  "language_info": {
   "codemirror_mode": {
    "name": "ipython",
    "version": 3
   },
   "file_extension": ".py",
   "mimetype": "text/x-python",
   "name": "python",
   "nbconvert_exporter": "python",
   "pygments_lexer": "ipython3",
   "version": "3.8.8"
  }
 },
 "nbformat": 4,
 "nbformat_minor": 5
}
