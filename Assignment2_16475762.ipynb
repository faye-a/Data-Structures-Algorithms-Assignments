{
 "cells": [
  {
   "cell_type": "markdown",
   "id": "coordinate-forty",
   "metadata": {},
   "source": [
    "# Part I:\n",
    "1) Write a class called myLinkedList that implements the\n",
    "following singly linked list interface:\n",
    "add first: adding an element at the front\n",
    "add last: adding an element at the end\n",
    "remove first: removing a node at the front\n",
    "list traversal: every node in the list has been seen\n",
    "<br><br>\n",
    "2) Define in your own words the terms: stack ADT and queue\n",
    "ADT. List the key operations and support operations\n",
    "commonly associated with these ADTs. For each ADT, give\n",
    "two real world data examples and explain them briefly"
   ]
  },
  {
   "cell_type": "markdown",
   "id": "charitable-ethernet",
   "metadata": {},
   "source": [
    "### Question 1"
   ]
  },
  {
   "cell_type": "markdown",
   "id": "67afa29f",
   "metadata": {},
   "source": [
    "**Linked List Algorithm**\n",
    "* Define a class Node. This will hold pointers along with the data alement. Initialize the pointer to None. This will point ant of the instance to the next pointer.\n",
    "* Define a class LinkedList that will store the elements of the array. \n",
    "    * define __init__ with the variable start_node specified as None."
   ]
  },
  {
   "cell_type": "markdown",
   "id": "c3cc0866",
   "metadata": {},
   "source": [
    "* define method add_first that takes one formal parameter.\n",
    "    * create variable new_node that initiates an Node object and passing formal parameter _element_ to its constructor.\n",
    "    * create variable new_node.ref = start_node"
   ]
  },
  {
   "cell_type": "markdown",
   "id": "886c8e2d",
   "metadata": {},
   "source": [
    "* define method add_last that takes one formal parameter.\n",
    "    * let new_node initiate a Node object and passes formal parameter _element_ \n",
    "        * if start_node is None then\n",
    "            * let start_node = new_node\n",
    "        * create n variable and let it equal to start_node\n",
    "            * while n.ref is not None:\n",
    "            * let n = n.ref\n",
    "         * let n.ref = new_node"
   ]
  },
  {
   "cell_type": "markdown",
   "id": "43df6c40",
   "metadata": {},
   "source": [
    "* define method remove_first\n",
    "     * if start_node contains None then\n",
    "         * print to user there is no element to delete\n",
    "         * let start_node = start_node.ref "
   ]
  },
  {
   "cell_type": "markdown",
   "id": "1526015c",
   "metadata": {},
   "source": [
    "* define method list_traversal\n",
    "     * if start_node is None then\n",
    "         * print to user that the list is Empty\n",
    "     * else then\n",
    "         * let n = start_node\n",
    "         * while n is not None then\n",
    "              * print to user n.item, \" \"\n",
    "              * let n = n.ref"
   ]
  },
  {
   "cell_type": "code",
   "execution_count": 1,
   "id": "funded-company",
   "metadata": {},
   "outputs": [],
   "source": [
    "class Node:\n",
    "    def __init__(self, itemValue):\n",
    "        #Self.item refers to the value of the list\n",
    "        self.item = itemValue\n",
    "        #Self.ref refers to the next reference of the next value.\n",
    "        self.ref = None"
   ]
  },
  {
   "cell_type": "code",
   "execution_count": 2,
   "id": "lined-pantyhose",
   "metadata": {},
   "outputs": [],
   "source": [
    "class LinkedList:\n",
    "    def __init__(self):\n",
    "        #Self.start_node where the start of the linkedlist is located\n",
    "        self.start_node = None\n",
    "    \n",
    "    \n",
    "    #Defining a method that adds an element at the front\n",
    "    def add_first(self, element):\n",
    "        new_node = Node(element)\n",
    "        #Letting new node point to the start (beginning of the node)\n",
    "        new_node.ref = self.start_node\n",
    "        #Let start_node equal value to new_node\n",
    "        self.start_node= new_node\n",
    "        \n",
    "        \n",
    "    #Defining a method that adds element at the end\n",
    "    def add_last(self, element):\n",
    "        #Creates a variable that calls Node class. This sets the itemValue in this instance\n",
    "        new_node = Node(element)\n",
    "        \n",
    "        #If the start_node is None then it will put new_node as the first element of the list (beginning)\n",
    "        if self.start_node is None:\n",
    "            self.start_node = new_node\n",
    "            return\n",
    "        \n",
    "        #Creates a new variable n which is the first element (start) of the list. This acts as the node.\n",
    "        n = self.start_node\n",
    "        \n",
    "        #Initiate a while loop while the next reference is None, this will go through all the nodes and will end when we reach the last one\n",
    "        while n.ref is not None:\n",
    "            #Let n equal to point to the next reference. This calls the Node variable self.ref\n",
    "            n = n.ref\n",
    "            \n",
    "        #Once the loop exits we let the next reference (pointer) point to the new_node variable.\n",
    "        n.ref = new_node\n",
    "                \n",
    "\n",
    "    #Defining a method that removes an element from the front\n",
    "    def remove_first(self):\n",
    "        #Checks if self.start_node is empty\n",
    "        if self.start_node is None:\n",
    "            print(\"There is no element to delete.\")\n",
    "            return\n",
    "        #Let the itemValue of start_node equal to the next itemValue the LinkedList is pointing to\n",
    "        self.start_node = self.start_node.ref\n",
    "        \n",
    "    \n",
    "    #Defining method to traverse through LinkedList items\n",
    "    def list_traverse(self):\n",
    "        #Checks if start_node is None, if None then it means the List is empty.\n",
    "        if self.start_node is None:\n",
    "            print(\"Empty List.\")\n",
    "            return\n",
    "    \n",
    "        else:\n",
    "            #Let n equal to start_node. This represents the node it is currently on.\n",
    "            n = self.start_node\n",
    "            #Initiate a while loop while n is not empty. It will print the itemValue and print result\n",
    "            while n is not None:\n",
    "                print(n.item , \" \")\n",
    "                #Let n point to the next item value. \n",
    "                n = n.ref"
   ]
  },
  {
   "cell_type": "code",
   "execution_count": 3,
   "id": "7951b727",
   "metadata": {},
   "outputs": [],
   "source": [
    "#Executing the code\n",
    "linkedlist = LinkedList()\n",
    "linkedlist.add_first(5)\n",
    "linkedlist.add_first(6)\n",
    "linkedlist.add_first(7)\n",
    "linkedlist.add_first(8)\n",
    "linkedlist.add_last(9)\n",
    "#Removes 5\n",
    "linkedlist.remove_first()"
   ]
  },
  {
   "cell_type": "code",
   "execution_count": 4,
   "id": "89f5305e",
   "metadata": {},
   "outputs": [
    {
     "name": "stdout",
     "output_type": "stream",
     "text": [
      "7  \n",
      "6  \n",
      "5  \n",
      "9  \n"
     ]
    }
   ],
   "source": [
    "linkedlist.list_traverse()"
   ]
  },
  {
   "cell_type": "markdown",
   "id": "fantastic-reporter",
   "metadata": {},
   "source": [
    "### Question 2"
   ]
  },
  {
   "cell_type": "markdown",
   "id": "continuous-burton",
   "metadata": {},
   "source": [
    "Before we define the different types of ADT(Abstract Data Types), we will define an ADT. ADTs are objects whose behaviour is defined by a set of operations and set of value. \"Abstract\" means that we can perform different types of operations however, how these operations are implemented are hidden away from the user. It contributes to software reliability and makes maintenance easier. \n",
    "<br><br>\n",
    "Stack ADTs serves a collection of elements that has 2 main principles but there are additional operations that can be performed on it. It is defined by a set of values and operations. Stack ADTs can be used to perform different operations. The two main principles are push() and pop(). push() adds an element to the collection. pop() removes recently added element that yet been removed. The order in which these elements are removed follow a last in first out policy. \n",
    "<br><br>\n",
    "To use a real world example, we think of plates stacked on top of each other. When we push(), we place the plate on top of another plate. When we want to remove a plate, we take the top most plate. This is how pop() would be implemented. Supporting operatins include stack() that creates an empty stackm isEmpty() is a boolean operation to check if the stach is empty. Stacks are used to pass data between functions. For example, if we have a a function that takes the parameters (\"a\", 12, \"eggs\", 130); \"a\" will be pushed onto the stack, followed by 12, then eggs then 130. When the function is called, 130 will be popped first and be assigned to the formal parameter. Stack ADTs can also have a peek method, in that we can look at the top element of the stack without removing it from the stack. (2017, 110)\n",
    "<br><br>\n",
    "Before discussing Queue ADTs, we will first define a queue. A queue is a data structure in which the removal and insertion elements are performed at two different ends. When an element is being inserted at one end, the deletion operates at the other end. An insertion is performed at the 'rear' while the deletion happens at the 'front.' Queue ADTs, in contrast to stack ADTs follow a first in first out principle. The operation of a queue has three main principles: enqueue(), dequeue(), display() and peek(). Enqueue() inserts an element into the queue at the tail end. Dequeue() deletes an element from the queue at the head. Display() presents all elements in the queue. And peek() method, as mentioned before, looks at the top of the elements of the stack without removing it from the stack. \n",
    "<br><br>\n",
    "To use a real world example, you are in a supermarket queue on a single line, where customers enters first and exits first. At the front of the line, when a customer takes a turn to pay for goods, they are removed at the front of the queue. This is how dequeue() is implemented. When a customer joins the queue it is always at the back of the queue (tail). This is how enqueue() is implemented. The uses of implemented a first in first out queue is to save the collection while at the same time perserving the order.    \n",
    "\n",
    "<br><br>\n",
    "**Reference:**\n",
    "<br>\n",
    "* B, Baka, 2017. _Python Data Structures and Algorithms_, Birmingham, Packt Publishing Ltd."
   ]
  },
  {
   "cell_type": "markdown",
   "id": "53e84ec7",
   "metadata": {},
   "source": [
    "# Part 2\n",
    "\n",
    "1) Adopt the ADT concepts of Part I (task 2) to provide a\n",
    "complete implementation of a stack ADT\n",
    "<br><br>\n",
    "2) What values are returned during the following series of\n",
    "stack operations, if executed upon an initially empty stack S?\n",
    "push(5), push(3), pop(), push(2), push(8), pop(), pop(),\n",
    "push(9), push(1), pop(), push(7), push(6), pop(), pop(),\n",
    "push(4), pop(), and pop()\n",
    "<br><br>\n",
    "3) Suppose an initially empty stack S has executed a total of\n",
    "35 push operations, 15 top operations, and 10 pop operations,\n",
    "3 of which raised Empty errors that were caught and ignored.\n",
    "What is the current size of S?\n"
   ]
  },
  {
   "cell_type": "markdown",
   "id": "cd81b664",
   "metadata": {},
   "source": [
    "### Question 1"
   ]
  },
  {
   "cell_type": "code",
   "execution_count": 5,
   "id": "4b1cbae5",
   "metadata": {},
   "outputs": [],
   "source": [
    "class Node_Stack:\n",
    "    def __init__(self, itemValue):\n",
    "        #Self.item refers to the value of the list\n",
    "        self.item = itemValue\n",
    "        #self.ref acts as the pointer of the next element\n",
    "        self.ref = None"
   ]
  },
  {
   "cell_type": "code",
   "execution_count": 6,
   "id": "c2d8f389",
   "metadata": {},
   "outputs": [],
   "source": [
    "class Stack:\n",
    "    def __init__(self):\n",
    "        self.start_stack = None\n",
    "    \n",
    "    \n",
    "    #Defining a method that adds an element at the top of the stack\n",
    "    def push(self, element):\n",
    "        #Creates a new node that stores the element\n",
    "        new_stack = Node_Stack(element)\n",
    "        new_stack.ref = self.start_stack\n",
    "        self.start_stack = new_stack\n",
    "                \n",
    "    #Defining a method that removes an element from the top of the stack because if FIFO policy\n",
    "    def pop(self):\n",
    "        \n",
    "        if self.start_stack is None:\n",
    "            print(\"There is no element to delete.\")\n",
    "            return\n",
    "        \n",
    "        self.start_stack = self.start_stack.ref\n",
    "        \n",
    "    \n",
    "    #Traverse through the Stacked items\n",
    "    def stack_traverse(self):\n",
    "    \n",
    "        if self.start_stack is None:\n",
    "            print(\"The Stack is empty.\")\n",
    "            return\n",
    "    \n",
    "        else:\n",
    "            n = self.start_stack\n",
    "            while n is not None:\n",
    "                print(n.item , \" \")\n",
    "                n = n.ref"
   ]
  },
  {
   "cell_type": "markdown",
   "id": "a8347c1f",
   "metadata": {},
   "source": [
    "### Question 2"
   ]
  },
  {
   "cell_type": "code",
   "execution_count": 7,
   "id": "b44a2673",
   "metadata": {},
   "outputs": [],
   "source": [
    "S = Stack()"
   ]
  },
  {
   "cell_type": "code",
   "execution_count": 8,
   "id": "42cda946",
   "metadata": {},
   "outputs": [],
   "source": [
    "S.push(5)"
   ]
  },
  {
   "cell_type": "code",
   "execution_count": 9,
   "id": "64cd721d",
   "metadata": {},
   "outputs": [],
   "source": [
    "S.push(3)"
   ]
  },
  {
   "cell_type": "code",
   "execution_count": 10,
   "id": "5b73ca15",
   "metadata": {},
   "outputs": [],
   "source": [
    "S.pop()"
   ]
  },
  {
   "cell_type": "code",
   "execution_count": 11,
   "id": "976ad4d2",
   "metadata": {},
   "outputs": [],
   "source": [
    "S.push(2)"
   ]
  },
  {
   "cell_type": "code",
   "execution_count": 12,
   "id": "09b2745c",
   "metadata": {},
   "outputs": [],
   "source": [
    "S.push(8)"
   ]
  },
  {
   "cell_type": "code",
   "execution_count": 13,
   "id": "7172325f",
   "metadata": {},
   "outputs": [],
   "source": [
    "S.pop()"
   ]
  },
  {
   "cell_type": "code",
   "execution_count": 14,
   "id": "8c00566a",
   "metadata": {},
   "outputs": [],
   "source": [
    "S.pop()"
   ]
  },
  {
   "cell_type": "code",
   "execution_count": 15,
   "id": "9213a688",
   "metadata": {},
   "outputs": [],
   "source": [
    "S.push(9)"
   ]
  },
  {
   "cell_type": "code",
   "execution_count": 16,
   "id": "2ad99143",
   "metadata": {},
   "outputs": [],
   "source": [
    "S.push(1)"
   ]
  },
  {
   "cell_type": "code",
   "execution_count": 17,
   "id": "40d73d0a",
   "metadata": {},
   "outputs": [],
   "source": [
    "S.pop()"
   ]
  },
  {
   "cell_type": "code",
   "execution_count": 18,
   "id": "ff9dd88f",
   "metadata": {},
   "outputs": [],
   "source": [
    "S.push(7)"
   ]
  },
  {
   "cell_type": "code",
   "execution_count": 19,
   "id": "1f128a0c",
   "metadata": {},
   "outputs": [],
   "source": [
    "S.push(6)"
   ]
  },
  {
   "cell_type": "code",
   "execution_count": 20,
   "id": "78ba6ba3",
   "metadata": {},
   "outputs": [],
   "source": [
    "S.pop()"
   ]
  },
  {
   "cell_type": "code",
   "execution_count": 21,
   "id": "9a7d4230",
   "metadata": {},
   "outputs": [],
   "source": [
    "S.pop()"
   ]
  },
  {
   "cell_type": "code",
   "execution_count": 22,
   "id": "696e7903",
   "metadata": {},
   "outputs": [],
   "source": [
    "S.push(4)"
   ]
  },
  {
   "cell_type": "code",
   "execution_count": 23,
   "id": "b054669a",
   "metadata": {},
   "outputs": [],
   "source": [
    "S.pop()"
   ]
  },
  {
   "cell_type": "code",
   "execution_count": 24,
   "id": "5692f5ec",
   "metadata": {
    "scrolled": true
   },
   "outputs": [],
   "source": [
    "S.pop()"
   ]
  },
  {
   "cell_type": "code",
   "execution_count": 25,
   "id": "deb32fd4",
   "metadata": {},
   "outputs": [
    {
     "name": "stdout",
     "output_type": "stream",
     "text": [
      "5  \n"
     ]
    }
   ],
   "source": [
    "S.stack_traverse()"
   ]
  },
  {
   "cell_type": "markdown",
   "id": "23678a38",
   "metadata": {},
   "source": [
    "### Question 3"
   ]
  },
  {
   "cell_type": "markdown",
   "id": "5c76eddb",
   "metadata": {},
   "source": [
    "10 - 3 = 7\n",
    "<br>\n",
    "35 - 7 = 28 is the current size of S.\n",
    "<br><br>\n",
    "We take away 3 from 10 pop() operations as 3 of them returned isEmpty error that means it did not change the state of the stack. The answer is then taken away from the initial size of the stack, 35, and we get an answer of 28. "
   ]
  },
  {
   "cell_type": "markdown",
   "id": "d6a457cc",
   "metadata": {},
   "source": [
    "# Part 3"
   ]
  },
  {
   "cell_type": "markdown",
   "id": "2a87f7bc",
   "metadata": {},
   "source": [
    "1) Adopt the ADT concepts of Part I (task 2) to provide a\n",
    "complete implementation of a queue ADT\n",
    "<br><br>\n",
    "2) What values are returned during the following sequence of\n",
    "queue operations, if executed on an initially empty queue Q?\n",
    "<br><br>\n",
    "enqueue(5), enqueue(3), dequeue(), enqueue(2), enqueue(8),\n",
    "<br>\n",
    "dequeue(), dequeue(), enqueue(9), enqueue(1), dequeue(),\n",
    "<br>\n",
    "enqueue(7), enqueue(6), dequeue(), dequeue(), enqueue(4),\n",
    "<br>\n",
    "dequeue(), dequeue()\n",
    "<br><br>\n",
    "3) Suppose an initially empty queue Q has executed a total of\n",
    "50 enqueue operations, 15 top operations, and 15 dequeue\n",
    "operations, 5 of which raised Empty errors that were caught\n",
    "and ignored. What is the current size of Q?"
   ]
  },
  {
   "cell_type": "markdown",
   "id": "63a489bb",
   "metadata": {},
   "source": [
    "### Question 1"
   ]
  },
  {
   "cell_type": "code",
   "execution_count": 26,
   "id": "60f5beb3",
   "metadata": {},
   "outputs": [],
   "source": [
    "class Queue:\n",
    "    def __init__(self):\n",
    "        self.queue = [] \n",
    "    \n",
    "    #Adding an element at the back(tail) of the queue\n",
    "    def enqueue(self, element):\n",
    "        self.element = element\n",
    "        self.queue += [self.element]\n",
    "        \n",
    "    #Removing an element at the front(head) of the queue\n",
    "    def dequeue(self):\n",
    "        self.queue = self.queue[1:]\n",
    "        \n",
    "    #Traverse through the Queue\n",
    "    def display(self):\n",
    "        for element in self.queue:\n",
    "            print(element)"
   ]
  },
  {
   "cell_type": "markdown",
   "id": "958a27a4",
   "metadata": {},
   "source": [
    "### Question 2"
   ]
  },
  {
   "cell_type": "code",
   "execution_count": 27,
   "id": "139cdb49",
   "metadata": {},
   "outputs": [],
   "source": [
    "Q = Queue()"
   ]
  },
  {
   "cell_type": "code",
   "execution_count": 28,
   "id": "3e77378c",
   "metadata": {},
   "outputs": [],
   "source": [
    "Q.enqueue(5)"
   ]
  },
  {
   "cell_type": "code",
   "execution_count": 29,
   "id": "fe3e1ed9",
   "metadata": {},
   "outputs": [],
   "source": [
    "Q.enqueue(3)"
   ]
  },
  {
   "cell_type": "code",
   "execution_count": 30,
   "id": "590a43c2",
   "metadata": {},
   "outputs": [],
   "source": [
    "Q.dequeue()"
   ]
  },
  {
   "cell_type": "code",
   "execution_count": 31,
   "id": "a5fdbcf8",
   "metadata": {},
   "outputs": [
    {
     "name": "stdout",
     "output_type": "stream",
     "text": [
      "3\n"
     ]
    }
   ],
   "source": [
    "Q.display()"
   ]
  },
  {
   "cell_type": "code",
   "execution_count": 32,
   "id": "c5fdd2d9",
   "metadata": {},
   "outputs": [],
   "source": [
    "Q.enqueue(2)"
   ]
  },
  {
   "cell_type": "code",
   "execution_count": 33,
   "id": "8701fdfd",
   "metadata": {},
   "outputs": [],
   "source": [
    "Q.enqueue(8)"
   ]
  },
  {
   "cell_type": "code",
   "execution_count": 34,
   "id": "7134f804",
   "metadata": {},
   "outputs": [],
   "source": [
    "Q.dequeue()"
   ]
  },
  {
   "cell_type": "code",
   "execution_count": 35,
   "id": "ed831dcb",
   "metadata": {},
   "outputs": [],
   "source": [
    "Q.dequeue()"
   ]
  },
  {
   "cell_type": "code",
   "execution_count": 36,
   "id": "d16bae82",
   "metadata": {},
   "outputs": [
    {
     "name": "stdout",
     "output_type": "stream",
     "text": [
      "8\n"
     ]
    }
   ],
   "source": [
    "Q.display()"
   ]
  },
  {
   "cell_type": "code",
   "execution_count": 37,
   "id": "6b8a16f9",
   "metadata": {},
   "outputs": [],
   "source": [
    "Q.enqueue(9)"
   ]
  },
  {
   "cell_type": "code",
   "execution_count": 38,
   "id": "a81b952c",
   "metadata": {},
   "outputs": [],
   "source": [
    "Q.enqueue(1)"
   ]
  },
  {
   "cell_type": "code",
   "execution_count": 39,
   "id": "51ecc0c9",
   "metadata": {},
   "outputs": [],
   "source": [
    "Q.dequeue()"
   ]
  },
  {
   "cell_type": "code",
   "execution_count": 40,
   "id": "4635b9b5",
   "metadata": {},
   "outputs": [
    {
     "name": "stdout",
     "output_type": "stream",
     "text": [
      "9\n",
      "1\n"
     ]
    }
   ],
   "source": [
    "Q.display()"
   ]
  },
  {
   "cell_type": "code",
   "execution_count": 41,
   "id": "b346eaea",
   "metadata": {},
   "outputs": [],
   "source": [
    "Q.enqueue(7)"
   ]
  },
  {
   "cell_type": "code",
   "execution_count": 42,
   "id": "2d056142",
   "metadata": {},
   "outputs": [],
   "source": [
    "Q.enqueue(6)"
   ]
  },
  {
   "cell_type": "code",
   "execution_count": 43,
   "id": "06601229",
   "metadata": {},
   "outputs": [],
   "source": [
    "Q.dequeue()"
   ]
  },
  {
   "cell_type": "code",
   "execution_count": 44,
   "id": "4cd85317",
   "metadata": {},
   "outputs": [],
   "source": [
    "Q.dequeue()"
   ]
  },
  {
   "cell_type": "code",
   "execution_count": 45,
   "id": "631e7c6d",
   "metadata": {},
   "outputs": [],
   "source": [
    "Q.enqueue(4)"
   ]
  },
  {
   "cell_type": "code",
   "execution_count": 46,
   "id": "e6c872b9",
   "metadata": {},
   "outputs": [],
   "source": [
    "Q.dequeue()"
   ]
  },
  {
   "cell_type": "code",
   "execution_count": 47,
   "id": "e9c9fae8",
   "metadata": {},
   "outputs": [],
   "source": [
    "Q.dequeue()"
   ]
  },
  {
   "cell_type": "code",
   "execution_count": 48,
   "id": "7cf7abee",
   "metadata": {},
   "outputs": [
    {
     "name": "stdout",
     "output_type": "stream",
     "text": [
      "4\n"
     ]
    }
   ],
   "source": [
    "Q.display()"
   ]
  },
  {
   "cell_type": "markdown",
   "id": "5ccd34b1",
   "metadata": {},
   "source": [
    "### Running Unittesting on the three data structures: Linkedlist, Stack and Queue"
   ]
  },
  {
   "cell_type": "code",
   "execution_count": 49,
   "id": "14af01d2",
   "metadata": {},
   "outputs": [],
   "source": [
    "from unittest.mock import patch, call\n",
    "import unittest\n",
    "class TestLinkedLists(unittest.TestCase):\n",
    "    def test_list_traversal_2(self):\n",
    "        with patch('builtins.print') as mocked_print:\n",
    "            ll = LinkedList()\n",
    "            ll.add_first(10)\n",
    "            ll.add_first(20)\n",
    "            ll.list_traverse()\n",
    "            self.assertEqual(mocked_print.mock_calls,[call(20, ' '), call(10, ' ')])\n",
    "        \n",
    "    def test_stack_traversal_3(self):\n",
    "        with patch('builtins.print') as mocked_print:\n",
    "            ll = Stack()\n",
    "            ll.push(10)\n",
    "            ll.push(20)\n",
    "            ll.stack_traverse()\n",
    "            self.assertEqual(mocked_print.mock_calls,[call(20, ' '), call(10, ' ')])\n",
    "            \n",
    "    def test_queue_traversal_4(self):\n",
    "        with patch('builtins.print') as mocked_print:\n",
    "            ll = Queue()\n",
    "            ll.enqueue(10)\n",
    "            ll.enqueue(20)\n",
    "            ll.display()\n",
    "            self.assertEqual(mocked_print.mock_calls,[call(10,), call(20)])"
   ]
  },
  {
   "cell_type": "code",
   "execution_count": 50,
   "id": "6079ea21",
   "metadata": {},
   "outputs": [
    {
     "name": "stderr",
     "output_type": "stream",
     "text": [
      "test_list_traversal_2 (__main__.TestLinkedLists) ... ok\n",
      "test_queue_traversal_4 (__main__.TestLinkedLists) ... ok\n",
      "test_stack_traversal_3 (__main__.TestLinkedLists) ... ok\n",
      "\n",
      "----------------------------------------------------------------------\n",
      "Ran 3 tests in 0.009s\n",
      "\n",
      "OK\n"
     ]
    },
    {
     "data": {
      "text/plain": [
       "<unittest.main.TestProgram at 0x1fc3fc74910>"
      ]
     },
     "execution_count": 50,
     "metadata": {},
     "output_type": "execute_result"
    }
   ],
   "source": [
    "unittest.main(argv=[''], verbosity=2, exit=False)"
   ]
  },
  {
   "cell_type": "markdown",
   "id": "7b24dcf8",
   "metadata": {},
   "source": [
    "### Question 3"
   ]
  },
  {
   "cell_type": "markdown",
   "id": "c9021958",
   "metadata": {},
   "source": [
    "Suppose an initially empty queue Q has executed a total of 50 enqueue operations, 15 top operations, and 15 dequeue operations, 5 of which raised Empty errors that were caught and ignored. What is the current size of Q?\n",
    "\n",
    "15 - 5 = 10\n",
    "<br>\n",
    "50 - 10 =  40 is the size of Q.\n",
    "<br><br>\n",
    "We take away 5 from 15 as 5 dequeue operations returned an Error. Then, we take away 10 from 50. The top operation does not affect the calculation as it is a peak method which only looks at the head of the list without removing it from the queue, this leaves with the answer of 40. Thus, the size of Q is 40. "
   ]
  },
  {
   "cell_type": "markdown",
   "id": "5c5569b3",
   "metadata": {},
   "source": [
    "### Measuring the run time complexity of each data structure"
   ]
  },
  {
   "cell_type": "code",
   "execution_count": 51,
   "id": "9c74f595",
   "metadata": {},
   "outputs": [],
   "source": [
    "from time import perf_counter_ns as pns\n",
    "# Defining a function that will return the runtime of each data structure in array. The input grows every time.\n",
    "def runtime_linkedlist(array):\n",
    "    results = []\n",
    "    start = pns()\n",
    "    ll = LinkedList()\n",
    "    for i in range(array):\n",
    "        ll.add_first(i)\n",
    "        ll.add_first(i)\n",
    "        ll.remove_first()\n",
    "    end = pns()\n",
    "    runtime = end - start\n",
    "    results += [runtime]\n",
    "    return results\n",
    "\n",
    "def runtime_stack(array):\n",
    "    results = []\n",
    "    start = pns()\n",
    "    ll = Stack()\n",
    "    for i in range(array):\n",
    "        ll.push(i)\n",
    "        ll.push(i)\n",
    "        ll.pop()\n",
    "    end = pns()\n",
    "    runtime = end - start\n",
    "    results += [runtime]\n",
    "    return results\n",
    "\n",
    "def runtime_queue(array):\n",
    "    results = []\n",
    "    start = pns()\n",
    "    ll = Queue()\n",
    "    for i in range(array):\n",
    "        ll.enqueue(i)\n",
    "        ll.enqueue(i)\n",
    "        ll.dequeue()\n",
    "    end = pns()\n",
    "    runtime = end - start\n",
    "    results += [runtime]\n",
    "    return results"
   ]
  },
  {
   "cell_type": "code",
   "execution_count": 52,
   "id": "4bddc8a5",
   "metadata": {},
   "outputs": [],
   "source": [
    "array_toiterate = [100,1000,10000,100000]"
   ]
  },
  {
   "cell_type": "code",
   "execution_count": 53,
   "id": "5465d23e",
   "metadata": {},
   "outputs": [
    {
     "name": "stdout",
     "output_type": "stream",
     "text": [
      "[144500]\n",
      "[2485400]\n",
      "[130071400]\n",
      "[26428883900]\n",
      "The runtimes for Queue:  [144500, 2485400, 130071400, 26428883900]\n"
     ]
    }
   ],
   "source": [
    "results_queue = []\n",
    "for array in array_toiterate:\n",
    "    runtime = runtime_queue(array)\n",
    "    print(runtime)\n",
    "    results_queue += runtime\n",
    "\n",
    "print(\"The runtimes for Queue: \", results_queue)"
   ]
  },
  {
   "cell_type": "code",
   "execution_count": 54,
   "id": "febe4881",
   "metadata": {},
   "outputs": [
    {
     "name": "stdout",
     "output_type": "stream",
     "text": [
      "The runtimes for LinkedList:  [474400, 4193400, 41036900, 394453100] \n",
      "\n"
     ]
    }
   ],
   "source": [
    "results_linkedlist = []\n",
    "for array in array_toiterate:\n",
    "    runtime = runtime_linkedlist(array)\n",
    "    results_linkedlist += runtime\n",
    "\n",
    "print(\"The runtimes for LinkedList: \",results_linkedlist, '\\n')"
   ]
  },
  {
   "cell_type": "code",
   "execution_count": 55,
   "id": "0322f5de",
   "metadata": {},
   "outputs": [
    {
     "name": "stdout",
     "output_type": "stream",
     "text": [
      "The runtimes for Stack:  [418499000, 319088300, 427793500, 399842800] \n",
      "\n"
     ]
    }
   ],
   "source": [
    "results_stack = []\n",
    "for array_2 in array_toiterate:\n",
    "    runtime = runtime_stack(array)\n",
    "    results_stack += runtime\n",
    "\n",
    "print(\"The runtimes for Stack: \", results_stack, '\\n')"
   ]
  },
  {
   "cell_type": "markdown",
   "id": "5516a984",
   "metadata": {},
   "source": [
    "### Runtime complexities:\n",
    "The running time complexities for LinkedLists and applying a LinkedList implementation for a Stack ADT, they both linear O(n). In contrast to the Queue ADT in which I implemented an array approach, it is constant O(1). As I initially made the array **array_toiterate** have 6 values where I increased it to 1 million and 1 billion, the notebook hanged when I was trying to calcalutate the running time for Queue ADT. This is to be expected as input grows larger, O(1) becomes extremely slow. If I was to continue running it, the length it would take would have been hours (even a day). Therefore, it demonstrates that implemented LinkedList for Stack or Queue is probably the best approach to handling large sizes in these data structures. "
   ]
  },
  {
   "cell_type": "code",
   "execution_count": null,
   "id": "df1d82db",
   "metadata": {},
   "outputs": [],
   "source": []
  }
 ],
 "metadata": {
  "kernelspec": {
   "display_name": "Python 3",
   "language": "python",
   "name": "python3"
  },
  "language_info": {
   "codemirror_mode": {
    "name": "ipython",
    "version": 3
   },
   "file_extension": ".py",
   "mimetype": "text/x-python",
   "name": "python",
   "nbconvert_exporter": "python",
   "pygments_lexer": "ipython3",
   "version": "3.8.8"
  }
 },
 "nbformat": 4,
 "nbformat_minor": 5
}
